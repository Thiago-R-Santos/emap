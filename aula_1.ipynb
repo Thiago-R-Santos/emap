{
 "cells": [
  {
   "cell_type": "markdown",
   "metadata": {},
   "source": [
    "# Aula 1\n",
    "\n"
   ]
  },
  {
   "cell_type": "markdown",
   "metadata": {},
   "source": [
    "#### Avaliação:\n",
    "\n",
    "5 listas (50% da nota), restante é da prova escrita em programação"
   ]
  },
  {
   "cell_type": "markdown",
   "metadata": {},
   "source": [
    "### Conceitos:\n",
    "\n",
    "Compilador converte o arquivo -> que você digitou para um Arquivo2 no formato que a máquina entende. Contudo, não tem portabilidade desse arquivo para outros sistemas operacionais.\n",
    "\n",
    "Linguagens Interpretadas\n",
    "Interpretador ler o arquivo Python e instrui a máquina o que deve fazer. Deixando mais flexível.\n",
    "(CPython)\n",
    "\n",
    "Flexibilidade, produtividade para o programador, gerencia a memória de forma independente."
   ]
  },
  {
   "cell_type": "markdown",
   "metadata": {},
   "source": [
    "O que precisamos para programar?\n",
    "\n",
    "## Declarações\n",
    "\n",
    "\n",
    "## Cotrole e Repetição\n",
    "\n",
    "\n",
    "## Controle de Decisão\n",
    "\n",
    "\n",
    "* (Importante sempre comentar e criar nomes significativos para variável)\n",
    "snake_case\n",
    "CamelCase\n",
    "\n",
    "\"\" usada para frases\n",
    "'' tambem funciona e é a unica usada por outras liguagens. Logo, podemos usar só aspas simples para ganhar mais legibilidade.\n",
    "\n",
    "\n",
    "\n",
    "\n"
   ]
  }
 ],
 "metadata": {
  "language_info": {
   "name": "python"
  }
 },
 "nbformat": 4,
 "nbformat_minor": 2
}
